{
 "cells": [
  {
   "cell_type": "code",
   "execution_count": 2,
   "metadata": {},
   "outputs": [],
   "source": [
    "import json\n",
    "import requests"
   ]
  },
  {
   "cell_type": "code",
   "execution_count": 3,
   "metadata": {},
   "outputs": [],
   "source": [
    "GDC = requests.get('https://api.gdc.cancer.gov/v0/submission/_dictionary/_all')"
   ]
  },
  {
   "cell_type": "code",
   "execution_count": 4,
   "metadata": {},
   "outputs": [],
   "source": [
    "with open('dereferenced.json') as JSON:\n",
    "    Deref = json.load(JSON)"
   ]
  },
  {
   "cell_type": "code",
   "execution_count": 5,
   "metadata": {},
   "outputs": [
    {
     "data": {
      "text/plain": [
       "dict_keys(['project', 'atac_seq_assay', 'wes_assay', 'acknowledgement', 'chip_seq_assay', '_definitions', 'document', 'diagnosis', 'demographic', 'diagnostic_test', 'comorbidity', 'proteomic_assay', 'cytokine_assay', 'submitted_aligned_reads', 'submitted_somatic_mutation', 'flow_assay', 'flow_assay_file', 'pathology_score', 'keyword', '_settings', 'proteomic_raw_data', '_terms', 'cytokine_assay_file', 'treatment', 'read_group', 'program', 'core_metadata_collection', 'sample', 'ihc_assay', 'alignment_workflow', 'exposure', 'ihc_assay_file', 'study', 'histopathology_assay', 'submitted_unaligned_reads', 'rna_seq_assay', 'publication', 'followup', 'aligned_reads_index', 'proteomic_processed_data', 'pathology_image', 'family_history', 'subject'])"
      ]
     },
     "execution_count": 5,
     "metadata": {},
     "output_type": "execute_result"
    }
   ],
   "source": [
    "Deref.keys()"
   ]
  },
  {
   "cell_type": "code",
   "execution_count": 6,
   "metadata": {},
   "outputs": [
    {
     "data": {
      "text/plain": [
       "dict_keys(['_definitions', '_terms', 'aggregated_somatic_mutation', 'aligned_reads', 'aligned_reads_index', 'alignment_cocleaning_workflow', 'alignment_workflow', 'aliquot', 'analysis_metadata', 'analyte', 'annotated_somatic_mutation', 'annotation', 'archive', 'biospecimen_supplement', 'case', 'center', 'clinical', 'clinical_supplement', 'copy_number_estimate', 'copy_number_liftover_workflow', 'copy_number_segment', 'copy_number_variation_workflow', 'data_format', 'data_release', 'data_subtype', 'data_type', 'demographic', 'diagnosis', 'experiment_metadata', 'experimental_strategy', 'exposure', 'expression_analysis_workflow', 'family_history', 'file', 'filtered_copy_number_segment', 'follow_up', 'gene_expression', 'genomic_profile_harmonization_workflow', 'germline_mutation_calling_workflow', 'masked_somatic_mutation', 'metaschema', 'methylation_array_harmonization_workflow', 'methylation_beta_value', 'methylation_liftover_workflow', 'mirna_expression', 'mirna_expression_workflow', 'molecular_test', 'pathology_detail', 'pathology_report', 'platform', 'portion', 'program', 'project', 'protein_expression', 'publication', 'raw_methylation_array', 'read_group', 'read_group_qc', 'rna_expression_workflow', 'root', 'run_metadata', 'sample', 'secondary_expression_analysis', 'simple_germline_variation', 'simple_somatic_mutation', 'slide', 'slide_image', 'somatic_aggregation_workflow', 'somatic_annotation_workflow', 'somatic_copy_number_workflow', 'somatic_mutation_calling_workflow', 'somatic_mutation_index', 'structural_variant_calling_workflow', 'structural_variation', 'submitted_aligned_reads', 'submitted_genomic_profile', 'submitted_genotyping_array', 'submitted_methylation_beta_value', 'submitted_tangent_copy_number', 'submitted_unaligned_reads', 'tag', 'tissue_source_site', 'treatment'])"
      ]
     },
     "execution_count": 6,
     "metadata": {},
     "output_type": "execute_result"
    }
   ],
   "source": [
    "GDC.json().keys()"
   ]
  },
  {
   "cell_type": "code",
   "execution_count": 7,
   "metadata": {},
   "outputs": [],
   "source": [
    "Node = 'project'"
   ]
  },
  {
   "cell_type": "code",
   "execution_count": null,
   "metadata": {},
   "outputs": [],
   "source": [
    "Deref[Node].keys()"
   ]
  },
  {
   "cell_type": "code",
   "execution_count": null,
   "metadata": {},
   "outputs": [],
   "source": [
    "GDC.json()[Node].keys()"
   ]
  },
  {
   "cell_type": "markdown",
   "metadata": {},
   "source": [
    "### Are the keys the same?"
   ]
  },
  {
   "cell_type": "code",
   "execution_count": null,
   "metadata": {},
   "outputs": [],
   "source": [
    "list(set(GDC.json()[Node].keys()) - set(Gen3.json()[Node+'.yaml'].keys()))"
   ]
  },
  {
   "cell_type": "markdown",
   "metadata": {},
   "source": [
    "### No, there are two additional keys in GDC"
   ]
  },
  {
   "cell_type": "markdown",
   "metadata": {},
   "source": [
    "### For every key, are they structured the same?"
   ]
  },
  {
   "cell_type": "code",
   "execution_count": null,
   "metadata": {},
   "outputs": [],
   "source": [
    "for key in list(set(GDC.json()[Node].keys()) & set(Gen3.json()[Node+'.yaml'].keys())):\n",
    "    print(key)\n",
    "    print('Gen3')\n",
    "    print(Deref[Node][key])\n",
    "    print('GDC')\n",
    "    print(GDC.json()[Node][key])\n",
    "    print(' ')"
   ]
  },
  {
   "cell_type": "code",
   "execution_count": null,
   "metadata": {},
   "outputs": [],
   "source": [
    "Deref[Node]['properties']['id']"
   ]
  },
  {
   "cell_type": "code",
   "execution_count": null,
   "metadata": {},
   "outputs": [],
   "source": [
    "GDC.json()[Node]['properties']['id']"
   ]
  },
  {
   "cell_type": "code",
   "execution_count": null,
   "metadata": {},
   "outputs": [],
   "source": [
    "Deref[Node]['properties'].keys()"
   ]
  },
  {
   "cell_type": "code",
   "execution_count": null,
   "metadata": {},
   "outputs": [],
   "source": [
    "GDC.json()[Node]['properties'].keys()"
   ]
  },
  {
   "cell_type": "code",
   "execution_count": null,
   "metadata": {},
   "outputs": [],
   "source": [
    "Deref[Node]['properties']['dbgap_accession_number']"
   ]
  },
  {
   "cell_type": "code",
   "execution_count": null,
   "metadata": {},
   "outputs": [],
   "source": [
    "GDC.json()[Node]['properties']['dbgap_accession_number']"
   ]
  },
  {
   "cell_type": "code",
   "execution_count": null,
   "metadata": {},
   "outputs": [],
   "source": [
    "GDC.json()['_definitions']"
   ]
  },
  {
   "cell_type": "code",
   "execution_count": null,
   "metadata": {},
   "outputs": [],
   "source": [
    "Deref['_definitions']"
   ]
  },
  {
   "cell_type": "code",
   "execution_count": null,
   "metadata": {},
   "outputs": [],
   "source": [
    "GDC.json()['_definitions']['data_file_error_type']"
   ]
  },
  {
   "cell_type": "code",
   "execution_count": null,
   "metadata": {},
   "outputs": [],
   "source": [
    "Deref['_definitions']['data_file_error_type']"
   ]
  },
  {
   "cell_type": "code",
   "execution_count": null,
   "metadata": {},
   "outputs": [],
   "source": [
    "GDC.json()['_definitions']['uuid']"
   ]
  },
  {
   "cell_type": "code",
   "execution_count": null,
   "metadata": {},
   "outputs": [],
   "source": [
    "Deref['_definitions']['UUID']"
   ]
  },
  {
   "cell_type": "code",
   "execution_count": null,
   "metadata": {},
   "outputs": [],
   "source": [
    "GDC.json()['_definitions'].keys()"
   ]
  },
  {
   "cell_type": "code",
   "execution_count": null,
   "metadata": {},
   "outputs": [],
   "source": [
    "Deref['_definitions'].keys()"
   ]
  },
  {
   "cell_type": "code",
   "execution_count": null,
   "metadata": {},
   "outputs": [],
   "source": [
    "Gen3.json()['_terms.yaml']"
   ]
  },
  {
   "cell_type": "code",
   "execution_count": null,
   "metadata": {},
   "outputs": [],
   "source": [
    "GDC.json()['_terms']"
   ]
  },
  {
   "cell_type": "markdown",
   "metadata": {},
   "source": [
    "## Only Select Nodes Necessary for Visualization:"
   ]
  },
  {
   "cell_type": "code",
   "execution_count": 41,
   "metadata": {},
   "outputs": [
    {
     "data": {
      "text/plain": [
       "7"
      ]
     },
     "execution_count": 41,
     "metadata": {},
     "output_type": "execute_result"
    }
   ],
   "source": [
    "ls = list(GDC.json().keys())\n",
    "ls.remove('file') # File causes case to disappear\n",
    "ls.remove('root') # root causes case to disappear\n",
    "ls.remove('run_metadata') # Causes case to disappear\n",
    "#ls.remove('slide') #Causes case to disappear\n",
    "#ls.remove('slide_image')\n",
    "ls.remove('annotation')\n",
    "ls.remove('tag')\n",
    "ls.remove('data_format')\n",
    "ls.remove('data_release')\n",
    "ls.remove('data_type')\n",
    "ls.remove('data_subtype')\n",
    "ls.remove('experimental_strategy')\n",
    "ls.remove('platform')\n",
    "ls.remove('publication')\n",
    "ls.remove('tissue_source_site')\n",
    "ls.remove('center')\n",
    "ls = ['program','project','case','sample','demographic','slide','slide_image']\n",
    "len(ls)"
   ]
  },
  {
   "cell_type": "code",
   "execution_count": 42,
   "metadata": {},
   "outputs": [
    {
     "data": {
      "text/plain": [
       "[]"
      ]
     },
     "execution_count": 42,
     "metadata": {},
     "output_type": "execute_result"
    }
   ],
   "source": [
    "ls[60:65]"
   ]
  },
  {
   "cell_type": "code",
   "execution_count": 43,
   "metadata": {},
   "outputs": [],
   "source": [
    "# Initial minimal dictionary\n",
    "New_Dict = {}\n",
    "for k,v in GDC.json().items():\n",
    "    if k in ['program','project','case','sample','demographic']:\n",
    "        New_Dict[k] = v"
   ]
  },
  {
   "cell_type": "code",
   "execution_count": 44,
   "metadata": {},
   "outputs": [],
   "source": [
    "#Complete Dictionary\n",
    "New_Dict = {}\n",
    "for k,v in GDC.json().items():\n",
    "    if k[0]!='_' and k in ls:\n",
    "        #if k == 'sample':\n",
    "            #del v['links'][-1]\n",
    "            \n",
    "        #if k == 'slide':\n",
    "         #   v['links'] = v['links'][0]['subgroup']\n",
    "        \n",
    "        New_Dict[k] = v"
   ]
  },
  {
   "cell_type": "markdown",
   "metadata": {},
   "source": [
    "## Dump JSON"
   ]
  },
  {
   "cell_type": "code",
   "execution_count": 40,
   "metadata": {},
   "outputs": [],
   "source": [
    "with open('Test_Dict5.json', 'w') as fp:\n",
    "    json.dump(New_Dict, fp)"
   ]
  },
  {
   "cell_type": "markdown",
   "metadata": {},
   "source": [
    "## Scratch work"
   ]
  },
  {
   "cell_type": "code",
   "execution_count": null,
   "metadata": {},
   "outputs": [],
   "source": [
    "New_Dict_Deref = {}\n",
    "for k,v in Deref.items():\n",
    "    if k in ['program','project','case','sample','demographic']:\n",
    "        New_Dict_Deref[k] = v[0]"
   ]
  },
  {
   "cell_type": "code",
   "execution_count": 45,
   "metadata": {},
   "outputs": [
    {
     "data": {
      "text/plain": [
       "[{'backref': 'samples',\n",
       "  'label': 'derived_from',\n",
       "  'multiplicity': 'many_to_one',\n",
       "  'name': 'cases',\n",
       "  'required': True,\n",
       "  'target_type': 'case'},\n",
       " {'backref': 'samples',\n",
       "  'label': 'processed_at',\n",
       "  'multiplicity': 'one_to_one',\n",
       "  'name': 'tissue_source_sites',\n",
       "  'required': False,\n",
       "  'target_type': 'tissue_source_site'},\n",
       " {'backref': 'samples',\n",
       "  'label': 'related_to',\n",
       "  'multiplicity': 'many_to_one',\n",
       "  'name': 'diagnoses',\n",
       "  'required': False,\n",
       "  'target_type': 'diagnosis'},\n",
       " {'backref': 'child_samples',\n",
       "  'label': 'derived_from',\n",
       "  'multiplicity': 'many_to_one',\n",
       "  'name': 'parent_samples',\n",
       "  'required': False,\n",
       "  'target_type': 'sample'}]"
      ]
     },
     "execution_count": 45,
     "metadata": {},
     "output_type": "execute_result"
    }
   ],
   "source": [
    "New_Dict['sample']['links']"
   ]
  },
  {
   "cell_type": "code",
   "execution_count": 46,
   "metadata": {
    "scrolled": true
   },
   "outputs": [
    {
     "data": {
      "text/plain": [
       "[{'backref': 'cases',\n",
       "  'label': 'member_of',\n",
       "  'multiplicity': 'many_to_one',\n",
       "  'name': 'projects',\n",
       "  'required': True,\n",
       "  'target_type': 'project'},\n",
       " {'backref': 'cases',\n",
       "  'label': 'processed_at',\n",
       "  'multiplicity': 'many_to_one',\n",
       "  'name': 'tissue_source_sites',\n",
       "  'required': False,\n",
       "  'target_type': 'tissue_source_site'}]"
      ]
     },
     "execution_count": 46,
     "metadata": {},
     "output_type": "execute_result"
    }
   ],
   "source": [
    "New_Dict['case']['links']"
   ]
  },
  {
   "cell_type": "code",
   "execution_count": 30,
   "metadata": {
    "scrolled": true
   },
   "outputs": [
    {
     "data": {
      "text/plain": [
       "[{'exclusive': False,\n",
       "  'required': True,\n",
       "  'subgroup': [{'backref': 'slides',\n",
       "    'label': 'derived_from',\n",
       "    'multiplicity': 'many_to_many',\n",
       "    'name': 'portions',\n",
       "    'required': False,\n",
       "    'target_type': 'portion'},\n",
       "   {'backref': 'slides',\n",
       "    'label': 'derived_from',\n",
       "    'multiplicity': 'many_to_many',\n",
       "    'name': 'samples',\n",
       "    'required': False,\n",
       "    'target_type': 'sample'}]}]"
      ]
     },
     "execution_count": 30,
     "metadata": {},
     "output_type": "execute_result"
    }
   ],
   "source": [
    "New_Dict['slide']['links']"
   ]
  },
  {
   "cell_type": "code",
   "execution_count": 16,
   "metadata": {},
   "outputs": [
    {
     "data": {
      "text/plain": [
       "[{'exclusive': True,\n",
       "  'required': True,\n",
       "  'subgroup': [{'backref': 'protein_expressions',\n",
       "    'label': 'derived_from',\n",
       "    'multiplicity': 'one_to_one',\n",
       "    'name': 'portions',\n",
       "    'required': False,\n",
       "    'target_type': 'portion'},\n",
       "   {'backref': 'protein_expressions',\n",
       "    'label': 'derived_from',\n",
       "    'multiplicity': 'one_to_one',\n",
       "    'name': 'samples',\n",
       "    'required': False,\n",
       "    'target_type': 'sample'}]}]"
      ]
     },
     "execution_count": 16,
     "metadata": {},
     "output_type": "execute_result"
    }
   ],
   "source": [
    "New_Dict['protein_expression']['links']"
   ]
  },
  {
   "cell_type": "code",
   "execution_count": 17,
   "metadata": {},
   "outputs": [
    {
     "data": {
      "text/plain": [
       "{'$schema': 'http://json-schema.org/draft-04/schema#',\n",
       " 'additionalProperties': False,\n",
       " 'category': 'administrative',\n",
       " 'description': 'A clinical site that collects and provides patient samples and clinical metadata for research use. (NCIt C103264)',\n",
       " 'downloadable': False,\n",
       " 'id': 'tissue_source_site',\n",
       " 'links': [],\n",
       " 'namespace': 'https://gdc.cancer.gov',\n",
       " 'previous_version_downloadable': False,\n",
       " 'program': '*',\n",
       " 'project': '*',\n",
       " 'properties': {'bcr_id': {'description': 'TCGA-provided BCR id.',\n",
       "   'type': 'string'},\n",
       "  'code': {'description': 'TCGA-provided TSS code.', 'type': 'string'},\n",
       "  'id': {'common': {'description': 'A 128-bit identifier. Depending on the mechanism used to generate it, it is either guaranteed to be different from all other UUIDs/GUIDs generated until 3400 AD or extremely likely to be different. Its relatively small size lends itself well to sorting, ordering, and hashing of all sorts, storing in databases, simple allocation, and ease of programming in general.',\n",
       "    'termDef': {'cde_id': 'C54100',\n",
       "     'cde_version': None,\n",
       "     'source': 'NCIt',\n",
       "     'term': 'Universally Unique Identifier',\n",
       "     'term_url': 'https://ncit.nci.nih.gov/ncitbrowser/ConceptReport.jsp?dictionary=NCI_Thesaurus&version=16.02d&ns=NCI_Thesaurus&code=C54100'}},\n",
       "   'description': 'UUID for the Tissue Source Site',\n",
       "   'pattern': '^[a-fA-F0-9]{8}-[a-fA-F0-9]{4}-[a-fA-F0-9]{4}-[a-fA-F0-9]{4}-[a-fA-F0-9]{12}$',\n",
       "   'systemAlias': 'node_id',\n",
       "   'type': 'string'},\n",
       "  'name': {'description': 'Name of the source site.', 'type': 'string'},\n",
       "  'project': {'description': 'Study name of the project.', 'type': 'string'},\n",
       "  'type': {'type': 'string'}},\n",
       " 'submittable': False,\n",
       " 'systemProperties': ['id'],\n",
       " 'title': 'Tissue Source Site',\n",
       " 'type': 'object',\n",
       " 'uniqueKeys': [['id'], ['code']],\n",
       " 'validators': None}"
      ]
     },
     "execution_count": 17,
     "metadata": {},
     "output_type": "execute_result"
    }
   ],
   "source": [
    "New_Dict['tissue_source_site']"
   ]
  },
  {
   "cell_type": "code",
   "execution_count": null,
   "metadata": {},
   "outputs": [],
   "source": []
  }
 ],
 "metadata": {
  "kernelspec": {
   "display_name": "Python 3",
   "language": "python",
   "name": "python3"
  },
  "language_info": {
   "codemirror_mode": {
    "name": "ipython",
    "version": 3
   },
   "file_extension": ".py",
   "mimetype": "text/x-python",
   "name": "python",
   "nbconvert_exporter": "python",
   "pygments_lexer": "ipython3",
   "version": "3.7.0"
  }
 },
 "nbformat": 4,
 "nbformat_minor": 2
}
