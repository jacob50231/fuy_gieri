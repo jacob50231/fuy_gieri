{
 "cells": [
  {
   "cell_type": "code",
   "execution_count": 2,
   "metadata": {},
   "outputs": [],
   "source": [
    "import json\n",
    "import requests"
   ]
  },
  {
   "cell_type": "code",
   "execution_count": 3,
   "metadata": {},
   "outputs": [],
   "source": [
    "GDC = requests.get('https://api.gdc.cancer.gov/v0/submission/_dictionary/_all')"
   ]
  },
  {
   "cell_type": "code",
   "execution_count": 4,
   "metadata": {},
   "outputs": [],
   "source": [
    "with open('dereferenced.json') as JSON:\n",
    "    Deref = json.load(JSON)"
   ]
  },
  {
   "cell_type": "code",
   "execution_count": 5,
   "metadata": {},
   "outputs": [
    {
     "data": {
      "text/plain": [
       "dict_keys(['project', 'atac_seq_assay', 'wes_assay', 'acknowledgement', 'chip_seq_assay', '_definitions', 'document', 'diagnosis', 'demographic', 'diagnostic_test', 'comorbidity', 'proteomic_assay', 'cytokine_assay', 'submitted_aligned_reads', 'submitted_somatic_mutation', 'flow_assay', 'flow_assay_file', 'pathology_score', 'keyword', '_settings', 'proteomic_raw_data', '_terms', 'cytokine_assay_file', 'treatment', 'read_group', 'program', 'core_metadata_collection', 'sample', 'ihc_assay', 'alignment_workflow', 'exposure', 'ihc_assay_file', 'study', 'histopathology_assay', 'submitted_unaligned_reads', 'rna_seq_assay', 'publication', 'followup', 'aligned_reads_index', 'proteomic_processed_data', 'pathology_image', 'family_history', 'subject'])"
      ]
     },
     "execution_count": 5,
     "metadata": {},
     "output_type": "execute_result"
    }
   ],
   "source": [
    "Deref.keys()"
   ]
  },
  {
   "cell_type": "code",
   "execution_count": 6,
   "metadata": {},
   "outputs": [
    {
     "data": {
      "text/plain": [
       "dict_keys(['_definitions', '_terms', 'aggregated_somatic_mutation', 'aligned_reads', 'aligned_reads_index', 'alignment_cocleaning_workflow', 'alignment_workflow', 'aliquot', 'analysis_metadata', 'analyte', 'annotated_somatic_mutation', 'annotation', 'archive', 'biospecimen_supplement', 'case', 'center', 'clinical', 'clinical_supplement', 'copy_number_estimate', 'copy_number_liftover_workflow', 'copy_number_segment', 'copy_number_variation_workflow', 'data_format', 'data_release', 'data_subtype', 'data_type', 'demographic', 'diagnosis', 'experiment_metadata', 'experimental_strategy', 'exposure', 'expression_analysis_workflow', 'family_history', 'file', 'filtered_copy_number_segment', 'follow_up', 'gene_expression', 'genomic_profile_harmonization_workflow', 'germline_mutation_calling_workflow', 'masked_somatic_mutation', 'metaschema', 'methylation_array_harmonization_workflow', 'methylation_beta_value', 'methylation_liftover_workflow', 'mirna_expression', 'mirna_expression_workflow', 'molecular_test', 'pathology_detail', 'pathology_report', 'platform', 'portion', 'program', 'project', 'protein_expression', 'publication', 'raw_methylation_array', 'read_group', 'read_group_qc', 'rna_expression_workflow', 'root', 'run_metadata', 'sample', 'secondary_expression_analysis', 'simple_germline_variation', 'simple_somatic_mutation', 'slide', 'slide_image', 'somatic_aggregation_workflow', 'somatic_annotation_workflow', 'somatic_copy_number_workflow', 'somatic_mutation_calling_workflow', 'somatic_mutation_index', 'structural_variant_calling_workflow', 'structural_variation', 'submitted_aligned_reads', 'submitted_genomic_profile', 'submitted_genotyping_array', 'submitted_methylation_beta_value', 'submitted_tangent_copy_number', 'submitted_unaligned_reads', 'tag', 'tissue_source_site', 'treatment'])"
      ]
     },
     "execution_count": 6,
     "metadata": {},
     "output_type": "execute_result"
    }
   ],
   "source": [
    "GDC.json().keys()"
   ]
  },
  {
   "cell_type": "code",
   "execution_count": 7,
   "metadata": {},
   "outputs": [],
   "source": [
    "Node = 'project'"
   ]
  },
  {
   "cell_type": "code",
   "execution_count": null,
   "metadata": {},
   "outputs": [],
   "source": [
    "Deref[Node].keys()"
   ]
  },
  {
   "cell_type": "code",
   "execution_count": null,
   "metadata": {},
   "outputs": [],
   "source": [
    "GDC.json()[Node].keys()"
   ]
  },
  {
   "cell_type": "markdown",
   "metadata": {},
   "source": [
    "### Are the keys the same?"
   ]
  },
  {
   "cell_type": "code",
   "execution_count": null,
   "metadata": {},
   "outputs": [],
   "source": [
    "list(set(GDC.json()[Node].keys()) - set(Gen3.json()[Node+'.yaml'].keys()))"
   ]
  },
  {
   "cell_type": "markdown",
   "metadata": {},
   "source": [
    "### No, there are two additional keys in GDC"
   ]
  },
  {
   "cell_type": "markdown",
   "metadata": {},
   "source": [
    "### For every key, are they structured the same?"
   ]
  },
  {
   "cell_type": "code",
   "execution_count": null,
   "metadata": {},
   "outputs": [],
   "source": [
    "for key in list(set(GDC.json()[Node].keys()) & set(Gen3.json()[Node+'.yaml'].keys())):\n",
    "    print(key)\n",
    "    print('Gen3')\n",
    "    print(Deref[Node][key])\n",
    "    print('GDC')\n",
    "    print(GDC.json()[Node][key])\n",
    "    print(' ')"
   ]
  },
  {
   "cell_type": "code",
   "execution_count": null,
   "metadata": {},
   "outputs": [],
   "source": [
    "Deref[Node]['properties']['id']"
   ]
  },
  {
   "cell_type": "code",
   "execution_count": null,
   "metadata": {},
   "outputs": [],
   "source": [
    "GDC.json()[Node]['properties']['id']"
   ]
  },
  {
   "cell_type": "code",
   "execution_count": null,
   "metadata": {},
   "outputs": [],
   "source": [
    "Deref[Node]['properties'].keys()"
   ]
  },
  {
   "cell_type": "code",
   "execution_count": null,
   "metadata": {},
   "outputs": [],
   "source": [
    "GDC.json()[Node]['properties'].keys()"
   ]
  },
  {
   "cell_type": "code",
   "execution_count": null,
   "metadata": {},
   "outputs": [],
   "source": [
    "Deref[Node]['properties']['dbgap_accession_number']"
   ]
  },
  {
   "cell_type": "code",
   "execution_count": null,
   "metadata": {},
   "outputs": [],
   "source": [
    "GDC.json()[Node]['properties']['dbgap_accession_number']"
   ]
  },
  {
   "cell_type": "code",
   "execution_count": null,
   "metadata": {},
   "outputs": [],
   "source": [
    "GDC.json()['_definitions']"
   ]
  },
  {
   "cell_type": "code",
   "execution_count": null,
   "metadata": {},
   "outputs": [],
   "source": [
    "Deref['_definitions']"
   ]
  },
  {
   "cell_type": "code",
   "execution_count": null,
   "metadata": {},
   "outputs": [],
   "source": [
    "GDC.json()['_definitions']['data_file_error_type']"
   ]
  },
  {
   "cell_type": "code",
   "execution_count": null,
   "metadata": {},
   "outputs": [],
   "source": [
    "Deref['_definitions']['data_file_error_type']"
   ]
  },
  {
   "cell_type": "code",
   "execution_count": null,
   "metadata": {},
   "outputs": [],
   "source": [
    "GDC.json()['_definitions']['uuid']"
   ]
  },
  {
   "cell_type": "code",
   "execution_count": null,
   "metadata": {},
   "outputs": [],
   "source": [
    "Deref['_definitions']['UUID']"
   ]
  },
  {
   "cell_type": "code",
   "execution_count": null,
   "metadata": {},
   "outputs": [],
   "source": [
    "GDC.json()['_definitions'].keys()"
   ]
  },
  {
   "cell_type": "code",
   "execution_count": null,
   "metadata": {},
   "outputs": [],
   "source": [
    "Deref['_definitions'].keys()"
   ]
  },
  {
   "cell_type": "code",
   "execution_count": null,
   "metadata": {},
   "outputs": [],
   "source": [
    "Gen3.json()['_terms.yaml']"
   ]
  },
  {
   "cell_type": "code",
   "execution_count": null,
   "metadata": {},
   "outputs": [],
   "source": [
    "GDC.json()['_terms']"
   ]
  },
  {
   "cell_type": "markdown",
   "metadata": {},
   "source": [
    "## Only Select Nodes Necessary for Visualization:"
   ]
  },
  {
   "cell_type": "code",
   "execution_count": 33,
   "metadata": {},
   "outputs": [
    {
     "data": {
      "text/plain": [
       "7"
      ]
     },
     "execution_count": 33,
     "metadata": {},
     "output_type": "execute_result"
    }
   ],
   "source": [
    "ls = list(GDC.json().keys())\n",
    "ls.remove('file') # File causes case to disappear\n",
    "ls.remove('root') # root causes case to disappear\n",
    "ls.remove('run_metadata') # Causes case to disappear\n",
    "#ls.remove('slide') #Causes case to disappear\n",
    "#ls.remove('slide_image')\n",
    "ls.remove('annotation')\n",
    "ls.remove('tag')\n",
    "ls.remove('data_format')\n",
    "ls.remove('data_release')\n",
    "ls.remove('data_type')\n",
    "ls.remove('data_subtype')\n",
    "ls.remove('experimental_strategy')\n",
    "ls.remove('platform')\n",
    "ls.remove('publication')\n",
    "ls.remove('tissue_source_site')\n",
    "ls.remove('center')\n",
    "ls = ['program','project','case','sample','demographic','slide','slide_image']\n",
    "len(ls)"
   ]
  },
  {
   "cell_type": "code",
   "execution_count": 94,
   "metadata": {},
   "outputs": [
    {
     "data": {
      "text/plain": [
       "['somatic_mutation_index',\n",
       " 'structural_variant_calling_workflow',\n",
       " 'structural_variation',\n",
       " 'submitted_aligned_reads',\n",
       " 'submitted_genomic_profile']"
      ]
     },
     "execution_count": 94,
     "metadata": {},
     "output_type": "execute_result"
    }
   ],
   "source": [
    "ls[60:65]"
   ]
  },
  {
   "cell_type": "code",
   "execution_count": 95,
   "metadata": {},
   "outputs": [],
   "source": [
    "# Initial minimal dictionary\n",
    "New_Dict = {}\n",
    "for k,v in GDC.json().items():\n",
    "    if k in ['program','project','case','sample','demographic']:\n",
    "        New_Dict[k] = v"
   ]
  },
  {
   "cell_type": "code",
   "execution_count": 34,
   "metadata": {},
   "outputs": [],
   "source": [
    "#Complete Dictionary\n",
    "New_Dict = {}\n",
    "for k,v in GDC.json().items():\n",
    "    if k[0]!='_' and k in ls:\n",
    "        #if k == 'sample':\n",
    "            #v['links'][0]['multiplicity'] = 'many_to_many'\n",
    "            \n",
    "        #if k == 'slide':\n",
    "         #   v['links'] = v['links'][0]['subgroup']\n",
    "        \n",
    "        New_Dict[k] = v"
   ]
  },
  {
   "cell_type": "markdown",
   "metadata": {},
   "source": [
    "## Dump JSON"
   ]
  },
  {
   "cell_type": "code",
   "execution_count": 35,
   "metadata": {},
   "outputs": [],
   "source": [
    "with open('Test_Dict4.json', 'w') as fp:\n",
    "    json.dump(New_Dict, fp)"
   ]
  },
  {
   "cell_type": "markdown",
   "metadata": {},
   "source": [
    "## Scratch work"
   ]
  },
  {
   "cell_type": "code",
   "execution_count": null,
   "metadata": {},
   "outputs": [],
   "source": [
    "New_Dict_Deref = {}\n",
    "for k,v in Deref.items():\n",
    "    if k in ['program','project','case','sample','demographic']:\n",
    "        New_Dict_Deref[k] = v[0]"
   ]
  },
  {
   "cell_type": "code",
   "execution_count": 10,
   "metadata": {},
   "outputs": [
    {
     "data": {
      "text/plain": [
       "[{'backref': 'samples',\n",
       "  'label': 'derived_from',\n",
       "  'multiplicity': 'many_to_one',\n",
       "  'name': 'cases',\n",
       "  'required': True,\n",
       "  'target_type': 'case'},\n",
       " {'backref': 'samples',\n",
       "  'label': 'processed_at',\n",
       "  'multiplicity': 'one_to_one',\n",
       "  'name': 'tissue_source_sites',\n",
       "  'required': False,\n",
       "  'target_type': 'tissue_source_site'},\n",
       " {'backref': 'samples',\n",
       "  'label': 'related_to',\n",
       "  'multiplicity': 'many_to_one',\n",
       "  'name': 'diagnoses',\n",
       "  'required': False,\n",
       "  'target_type': 'diagnosis'},\n",
       " {'backref': 'child_samples',\n",
       "  'label': 'derived_from',\n",
       "  'multiplicity': 'many_to_one',\n",
       "  'name': 'parent_samples',\n",
       "  'required': False,\n",
       "  'target_type': 'sample'}]"
      ]
     },
     "execution_count": 10,
     "metadata": {},
     "output_type": "execute_result"
    }
   ],
   "source": [
    "New_Dict['sample']['links']"
   ]
  },
  {
   "cell_type": "code",
   "execution_count": 13,
   "metadata": {
    "scrolled": true
   },
   "outputs": [
    {
     "data": {
      "text/plain": [
       "{'$schema': 'http://json-schema.org/draft-04/schema#',\n",
       " 'additionalProperties': False,\n",
       " 'category': 'administrative',\n",
       " 'description': 'The collection of all data related to a specific subject in the context of a specific project.',\n",
       " 'downloadable': False,\n",
       " 'id': 'case',\n",
       " 'links': [{'backref': 'cases',\n",
       "   'label': 'member_of',\n",
       "   'multiplicity': 'many_to_one',\n",
       "   'name': 'projects',\n",
       "   'required': True,\n",
       "   'target_type': 'project'},\n",
       "  {'backref': 'cases',\n",
       "   'label': 'processed_at',\n",
       "   'multiplicity': 'many_to_one',\n",
       "   'name': 'tissue_source_sites',\n",
       "   'required': False,\n",
       "   'target_type': 'tissue_source_site'}],\n",
       " 'namespace': 'https://gdc.cancer.gov',\n",
       " 'previous_version_downloadable': False,\n",
       " 'program': '*',\n",
       " 'project': '*',\n",
       " 'properties': {'batch_id': {'description': 'GDC submission batch indicator. It is unique within the context of a project.',\n",
       "   'type': 'integer'},\n",
       "  'consent_type': {'description': 'The text term used to describe the type of consent obtain from the subject for participation in the study.',\n",
       "   'enum': ['Consent by Death',\n",
       "    'Consent Exemption',\n",
       "    'Consent Waiver',\n",
       "    'Informed Consent'],\n",
       "   'termDef': {'cde_id': None,\n",
       "    'cde_version': None,\n",
       "    'source': None,\n",
       "    'term': 'Subject Consent Type',\n",
       "    'term_url': None}},\n",
       "  'created_datetime': {'common': {'description': 'A combination of date and time of day in the form [-]CCYY-MM-DDThh:mm:ss[Z|(+|-)hh:mm]',\n",
       "    'termDef': {'cde_id': None,\n",
       "     'cde_version': None,\n",
       "     'source': None,\n",
       "     'term': None,\n",
       "     'term_url': None}},\n",
       "   'oneOf': [{'format': 'date-time', 'type': 'string'}, {'type': 'null'}]},\n",
       "  'days_to_consent': {'description': 'Number of days between the date used for index and the date the subject consent was obtained for participation in the study.',\n",
       "   'termDef': {'cde_id': None,\n",
       "    'cde_version': None,\n",
       "    'source': None,\n",
       "    'term': 'Index Date to Consent Day Count',\n",
       "    'term_url': None},\n",
       "   'type': 'integer'},\n",
       "  'days_to_lost_to_followup': {'description': 'The number of days between the date used for index and to the date the patient was lost to follow-up.',\n",
       "   'maximum': 32872,\n",
       "   'minimum': -32872,\n",
       "   'termDef': {'cde_id': 6154721,\n",
       "    'cde_version': 1.0,\n",
       "    'source': 'caDSR',\n",
       "    'term': 'Index Date To Lost To Follow-up Day Count',\n",
       "    'term_url': 'https://cdebrowser.nci.nih.gov/cdebrowserClient/cdeBrowser.html#/search?publicId=6154721&version=1.0'},\n",
       "   'type': 'integer'},\n",
       "  'disease_type': {'deprecated_enum': ['Acute Lymphoblastic Leukemia',\n",
       "    'Acute Myeloid Leukemia',\n",
       "    'Adrenocortical Carcinoma',\n",
       "    'Bladder Urothelial Carcinoma',\n",
       "    'Brain Lower Grade Glioma',\n",
       "    'Breast Invasive Carcinoma',\n",
       "    'Burkitt Lymphoma',\n",
       "    'Cervical Squamous Cell Carcinoma and Endocervical Adenocarcinoma',\n",
       "    'Cholangiocarcinoma',\n",
       "    'Chronic Lymphocytic Leukemia',\n",
       "    'Clear Cell Sarcoma of the Kidney',\n",
       "    'Colon Adenocarcinoma',\n",
       "    'Esophageal Carcinoma',\n",
       "    'Glioblastoma Multiforme',\n",
       "    'Head and Neck Squamous Cell Carcinoma',\n",
       "    'High-Risk Wilms Tumor',\n",
       "    'HIV+ Tumor Molecular Characterization Project - Cervical Cancer',\n",
       "    'HIV+ Tumor Molecular Characterization Project - Lung Cancer',\n",
       "    'Kidney Chromophobe',\n",
       "    'Kidney Renal Clear Cell Carcinoma',\n",
       "    'Kidney Renal Papillary Cell Carcinoma',\n",
       "    'Liver Hepatocellular Carcinoma',\n",
       "    'Lung Adenocarcinoma',\n",
       "    'Lung Squamous Cell Carcinoma',\n",
       "    'Lymphoid Neoplasm Diffuse Large B-cell Lymphoma',\n",
       "    'Mesothelioma',\n",
       "    'Multiple Myeloma',\n",
       "    'Neuroblastoma',\n",
       "    'Osteosarcoma',\n",
       "    'Ovarian Serous Cystadenocarcinoma',\n",
       "    'Pancreatic Adenocarcinoma',\n",
       "    'Pheochromocytoma and Paraganglioma',\n",
       "    'Prostate Adenocarcinoma',\n",
       "    'Rectum Adenocarcinoma',\n",
       "    'Rhabdoid Tumor',\n",
       "    'Sarcoma',\n",
       "    'Skin Cutaneous Melanoma',\n",
       "    'Stomach Adenocarcinoma',\n",
       "    'Testicular Germ Cell Tumors',\n",
       "    'Thymoma',\n",
       "    'Thyroid Carcinoma',\n",
       "    'Uterine Carcinosarcoma',\n",
       "    'Uterine Corpus Endometrial Carcinoma',\n",
       "    'Uveal Melanoma'],\n",
       "   'description': \"The text term used to describe the type of malignant disease, as categorized by the World Health Organization's (WHO) International Classification of Diseases for Oncology (ICD-O).\",\n",
       "   'enum': ['Acinar Cell Neoplasms',\n",
       "    'Adenomas and Adenocarcinomas',\n",
       "    'Adnexal and Skin Appendage Neoplasms',\n",
       "    'Basal Cell Neoplasms',\n",
       "    'Blood Vessel Tumors',\n",
       "    'Chronic Myeloproliferative Disorders',\n",
       "    'Complex Epithelial Neoplasms',\n",
       "    'Complex Mixed and Stromal Neoplasms',\n",
       "    'Cystic, Mucinous and Serous Neoplasms',\n",
       "    'Ductal and Lobular Neoplasms',\n",
       "    'Epithelial Neoplasms, NOS',\n",
       "    'Fibroepithelial Neoplasms',\n",
       "    'Fibromatous Neoplasms',\n",
       "    'Germ Cell Neoplasms',\n",
       "    'Giant Cell Tumors',\n",
       "    'Gliomas',\n",
       "    'Granular Cell Tumors and Alveolar Soft Part Sarcomas',\n",
       "    'Hodgkin Lymphoma',\n",
       "    'Immunoproliferative Diseases',\n",
       "    'Leukemias, NOS',\n",
       "    'Lipomatous Neoplasms',\n",
       "    'Lymphatic Vessel Tumors',\n",
       "    'Lymphoid Leukemias',\n",
       "    'Malignant Lymphomas, NOS or Diffuse',\n",
       "    'Mast Cell Tumors',\n",
       "    'Mature B-Cell Lymphomas',\n",
       "    'Mature T- and NK-Cell Lymphomas',\n",
       "    'Meningiomas',\n",
       "    'Mesonephromas',\n",
       "    'Mesothelial Neoplasms',\n",
       "    'Miscellaneous Bone Tumors',\n",
       "    'Miscellaneous Tumors',\n",
       "    'Mucoepidermoid Neoplasms',\n",
       "    'Myelodysplastic Syndromes',\n",
       "    'Myeloid Leukemias',\n",
       "    'Myomatous Neoplasms',\n",
       "    'Myxomatous Neoplasms',\n",
       "    'Neoplasms, NOS',\n",
       "    'Neoplasms of Histiocytes and Accessory Lymphoid Cells',\n",
       "    'Nerve Sheath Tumors',\n",
       "    'Neuroepitheliomatous Neoplasms',\n",
       "    'Nevi and Melanomas',\n",
       "    'Odontogenic Tumors',\n",
       "    'Osseous and Chondromatous Neoplasms',\n",
       "    'Other Hematologic Disorders',\n",
       "    'Other Leukemias',\n",
       "    'Paragangliomas and Glomus Tumors',\n",
       "    'Plasma Cell Tumors',\n",
       "    'Precursor Cell Lymphoblastic Lymphoma',\n",
       "    'Soft Tissue Tumors and Sarcomas, NOS',\n",
       "    'Specialized Gonadal Neoplasms',\n",
       "    'Squamous Cell Neoplasms',\n",
       "    'Synovial-like Neoplasms',\n",
       "    'Thymic Epithelial Neoplasms',\n",
       "    'Transitional Cell Papillomas and Carcinomas',\n",
       "    'Trophoblastic neoplasms',\n",
       "    'Unknown',\n",
       "    'Not Reported',\n",
       "    'Not Applicable',\n",
       "    'Acute Lymphoblastic Leukemia',\n",
       "    'Acute Myeloid Leukemia',\n",
       "    'Adrenocortical Carcinoma',\n",
       "    'Bladder Urothelial Carcinoma',\n",
       "    'Brain Lower Grade Glioma',\n",
       "    'Breast Invasive Carcinoma',\n",
       "    'Burkitt Lymphoma',\n",
       "    'Cervical Squamous Cell Carcinoma and Endocervical Adenocarcinoma',\n",
       "    'Cholangiocarcinoma',\n",
       "    'Chronic Lymphocytic Leukemia',\n",
       "    'Clear Cell Sarcoma of the Kidney',\n",
       "    'Colon Adenocarcinoma',\n",
       "    'Esophageal Carcinoma',\n",
       "    'Glioblastoma Multiforme',\n",
       "    'Head and Neck Squamous Cell Carcinoma',\n",
       "    'High-Risk Wilms Tumor',\n",
       "    'HIV+ Tumor Molecular Characterization Project - Cervical Cancer',\n",
       "    'HIV+ Tumor Molecular Characterization Project - Lung Cancer',\n",
       "    'Kidney Chromophobe',\n",
       "    'Kidney Renal Clear Cell Carcinoma',\n",
       "    'Kidney Renal Papillary Cell Carcinoma',\n",
       "    'Liver Hepatocellular Carcinoma',\n",
       "    'Lung Adenocarcinoma',\n",
       "    'Lung Squamous Cell Carcinoma',\n",
       "    'Lymphoid Neoplasm Diffuse Large B-cell Lymphoma',\n",
       "    'Mesothelioma',\n",
       "    'Multiple Myeloma',\n",
       "    'Neuroblastoma',\n",
       "    'Osteosarcoma',\n",
       "    'Ovarian Serous Cystadenocarcinoma',\n",
       "    'Pancreatic Adenocarcinoma',\n",
       "    'Pheochromocytoma and Paraganglioma',\n",
       "    'Prostate Adenocarcinoma',\n",
       "    'Rectum Adenocarcinoma',\n",
       "    'Rhabdoid Tumor',\n",
       "    'Sarcoma',\n",
       "    'Skin Cutaneous Melanoma',\n",
       "    'Stomach Adenocarcinoma',\n",
       "    'Testicular Germ Cell Tumors',\n",
       "    'Thymoma',\n",
       "    'Thyroid Carcinoma',\n",
       "    'Uterine Carcinosarcoma',\n",
       "    'Uterine Corpus Endometrial Carcinoma',\n",
       "    'Uveal Melanoma'],\n",
       "   'enumDef': {'Mesothelioma': {'description': 'A usually malignant and aggressive neoplasm of the mesothelium which is often associated with exposure to asbestos.',\n",
       "     'termDef': {'cde_id': None,\n",
       "      'cde_version': None,\n",
       "      'source': 'NCIt',\n",
       "      'term': 'Mesothelioma',\n",
       "      'term_id': 'C3234',\n",
       "      'term_url': 'https://ncit.nci.nih.gov/ncitbrowser/ConceptReport.jsp?dictionary=NCI_Thesaurus&ns=ncit&code=C3234',\n",
       "      'term_version': '19.12e'}},\n",
       "    'Multiple Myeloma': {'description': 'A bone marrow-based plasma cell neoplasm characterized by a serum monoclonal protein and skeletal destruction with osteolytic lesions, pathological fractures, bone pain, hypercalcemia, and anemia. Clinical variants include non-secretory myeloma, smoldering myeloma, indolent myeloma, and plasma cell leukemia.',\n",
       "     'termDef': {'cde_id': None,\n",
       "      'cde_version': None,\n",
       "      'source': 'NCIt',\n",
       "      'term': 'Plasma Cell Myeloma',\n",
       "      'term_id': 'C3242',\n",
       "      'term_url': 'https://ncit.nci.nih.gov/ncitbrowser/ConceptReport.jsp?dictionary=NCI_Thesaurus&ns=ncit&code=C3242',\n",
       "      'term_version': '19.12e'}},\n",
       "    'Neuroblastoma': {'description': 'A neuroblastic tumor characterized by the presence of neuroblastic cells, the absence of ganglion cells, and the absence of a prominent Schwannian stroma formation.',\n",
       "     'termDef': {'cde_id': None,\n",
       "      'cde_version': None,\n",
       "      'source': 'NCIt',\n",
       "      'term': 'Neuroblastoma',\n",
       "      'term_id': 'C3270',\n",
       "      'term_url': 'https://ncit.nci.nih.gov/ncitbrowser/ConceptReport.jsp?dictionary=NCI_Thesaurus&ns=ncit&code=C3270',\n",
       "      'term_version': '19.12e'}},\n",
       "    'Not Reported': {'description': 'Not provided or available.',\n",
       "     'termDef': {'cde_id': None,\n",
       "      'cde_version': None,\n",
       "      'source': 'NCIt',\n",
       "      'term': 'Not Reported',\n",
       "      'term_id': 'C43234',\n",
       "      'term_url': 'https://ncit.nci.nih.gov/ncitbrowser/ConceptReport.jsp?dictionary=NCI_Thesaurus&ns=ncit&code=C43234',\n",
       "      'term_version': '20.05a'}},\n",
       "    'Osteosarcoma': {'description': 'A usually aggressive malignant bone-forming mesenchymal neoplasm, predominantly affecting adolescents and young adults. It usually involves bones and less frequently extraosseous sites. It often involves the long bones (particularly distal femur, proximal tibia, and proximal humerus). Pain with or without a palpable mass is the most frequent clinical symptom. It may spread to other anatomic sites, particularly the lungs.',\n",
       "     'termDef': {'cde_id': None,\n",
       "      'cde_version': None,\n",
       "      'source': 'NCIt',\n",
       "      'term': 'Osteosarcoma',\n",
       "      'term_id': 'C9145',\n",
       "      'term_url': 'https://ncit.nci.nih.gov/ncitbrowser/ConceptReport.jsp?dictionary=NCI_Thesaurus&ns=ncit&code=C9145',\n",
       "      'term_version': '19.12e'}},\n",
       "    'Sarcoma': {'description': 'A usually aggressive malignant neoplasm of the soft tissue or bone. It arises from muscle, fat, fibrous tissue, bone, cartilage, and blood vessels. Sarcomas occur in both children and adults. The prognosis depends largely on the degree of differentiation (grade) of the neoplasm. Representative subtypes are liposarcoma, leiomyosarcoma, osteosarcoma, and chondrosarcoma.',\n",
       "     'termDef': {'cde_id': None,\n",
       "      'cde_version': None,\n",
       "      'source': 'NCIt',\n",
       "      'term': 'Sarcoma',\n",
       "      'term_id': 'C9118',\n",
       "      'term_url': 'https://ncit.nci.nih.gov/ncitbrowser/ConceptReport.jsp?dictionary=NCI_Thesaurus&ns=ncit&code=C9118',\n",
       "      'term_version': '19.12e'}},\n",
       "    'Unknown': {'description': 'Not known, not observed, not recorded, or refused.',\n",
       "     'termDef': {'cde_id': None,\n",
       "      'cde_version': None,\n",
       "      'source': 'NCIt',\n",
       "      'term': 'Unknown',\n",
       "      'term_id': 'C17998',\n",
       "      'term_url': 'https://ncit.nci.nih.gov/ncitbrowser/ConceptReport.jsp?dictionary=NCI_Thesaurus&ns=ncit&code=C17998',\n",
       "      'term_version': '19.12e'}}},\n",
       "   'termDef': {'cde_id': 6161017,\n",
       "    'cde_version': 1.0,\n",
       "    'source': 'caDSR',\n",
       "    'term': 'ICD-O Disease Diagnosis Category',\n",
       "    'term_url': 'https://cdebrowser.nci.nih.gov/cdebrowserClient/cdeBrowser.html#/search?publicId=6161017&version=1.0'}},\n",
       "  'id': {'common': {'description': 'A 128-bit identifier. Depending on the mechanism used to generate it, it is either guaranteed to be different from all other UUIDs/GUIDs generated until 3400 AD or extremely likely to be different. Its relatively small size lends itself well to sorting, ordering, and hashing of all sorts, storing in databases, simple allocation, and ease of programming in general.',\n",
       "    'termDef': {'cde_id': 'C54100',\n",
       "     'cde_version': None,\n",
       "     'source': 'NCIt',\n",
       "     'term': 'Universally Unique Identifier',\n",
       "     'term_url': 'https://ncit.nci.nih.gov/ncitbrowser/ConceptReport.jsp?dictionary=NCI_Thesaurus&version=16.02d&ns=NCI_Thesaurus&code=C54100'}},\n",
       "   'pattern': '^[a-fA-F0-9]{8}-[a-fA-F0-9]{4}-[a-fA-F0-9]{4}-[a-fA-F0-9]{4}-[a-fA-F0-9]{12}$',\n",
       "   'systemAlias': 'node_id',\n",
       "   'type': 'string'},\n",
       "  'index_date': {'description': 'The text term used to describe the reference or anchor date used when for date obfuscation, where a single date is obscurred by creating one or more date ranges in relation to this date.',\n",
       "   'enum': ['Diagnosis',\n",
       "    'First Patient Visit',\n",
       "    'First Treatment',\n",
       "    'Initial Genomic Sequencing',\n",
       "    'Recurrence',\n",
       "    'Sample Procurement',\n",
       "    'Study Enrollment'],\n",
       "   'termDef': {'cde_id': 6154722,\n",
       "    'cde_version': 1.0,\n",
       "    'source': 'caDSR',\n",
       "    'term': 'Index Date Type',\n",
       "    'term_url': 'https://cdebrowser.nci.nih.gov/cdebrowserClient/cdeBrowser.html#/search?publicId=6154722&version=1.0'}},\n",
       "  'lost_to_followup': {'description': 'The yes/no/unknown indicator used to describe whether a patient was unable to be contacted or seen for follow-up information.',\n",
       "   'enum': ['Yes', 'No', 'Unknown'],\n",
       "   'enumDef': {'No': {'description': 'The non-affirmative response to a question.',\n",
       "     'termDef': {'cde_id': None,\n",
       "      'cde_version': None,\n",
       "      'source': 'NCIt',\n",
       "      'term': 'No',\n",
       "      'term_id': 'C49487',\n",
       "      'term_url': 'https://ncit.nci.nih.gov/ncitbrowser/ConceptReport.jsp?dictionary=NCI_Thesaurus&ns=ncit&code=C49487',\n",
       "      'term_version': '19.12e'}},\n",
       "    'Unknown': {'description': 'Not known, not observed, not recorded, or refused.',\n",
       "     'termDef': {'cde_id': None,\n",
       "      'cde_version': None,\n",
       "      'source': 'NCIt',\n",
       "      'term': 'Unknown',\n",
       "      'term_id': 'C17998',\n",
       "      'term_url': 'https://ncit.nci.nih.gov/ncitbrowser/ConceptReport.jsp?dictionary=NCI_Thesaurus&ns=ncit&code=C17998',\n",
       "      'term_version': '19.12e'}},\n",
       "    'Yes': {'description': 'The affirmative response to a question.',\n",
       "     'termDef': {'cde_id': None,\n",
       "      'cde_version': None,\n",
       "      'source': 'NCIt',\n",
       "      'term': 'Yes',\n",
       "      'term_id': 'C49488',\n",
       "      'term_url': 'https://ncit.nci.nih.gov/ncitbrowser/ConceptReport.jsp?dictionary=NCI_Thesaurus&ns=ncit&code=C49488',\n",
       "      'term_version': '19.12e'}}},\n",
       "   'termDef': {'cde_id': 6161018,\n",
       "    'cde_version': 1.0,\n",
       "    'source': 'caDSR',\n",
       "    'term': 'Patient Lost Follow-up Indicator',\n",
       "    'term_url': 'https://cdebrowser.nci.nih.gov/cdebrowserClient/cdeBrowser.html#/search?publicId=6161018&version=1.0'}},\n",
       "  'primary_site': {'deprecated_enum': ['Adrenal Gland',\n",
       "    'Bile Duct',\n",
       "    'Blood',\n",
       "    'Bone',\n",
       "    'Bone Marrow',\n",
       "    'Cervix',\n",
       "    'Colorectal',\n",
       "    'Eye',\n",
       "    'Head and Neck',\n",
       "    'Liver',\n",
       "    'Lung',\n",
       "    'Lymph Nodes',\n",
       "    'Nervous System',\n",
       "    'Not Applicable',\n",
       "    'Pleura',\n",
       "    'Prostate',\n",
       "    'Soft Tissue',\n",
       "    'Thyroid',\n",
       "    'Uterus'],\n",
       "   'description': \"The text term used to describe the primary site of disease, as categorized by the World Health Organization's (WHO) International Classification of Diseases for Oncology (ICD-O). This categorization groups cases into general categories. Reference tissue_or_organ_of_origin on the diagnosis node for more specific primary sites of disease.\",\n",
       "   'enum': ['Accessory sinuses',\n",
       "    'Adrenal gland',\n",
       "    'Anus and anal canal',\n",
       "    'Base of tongue',\n",
       "    'Bladder',\n",
       "    'Bones, joints and articular cartilage of limbs',\n",
       "    'Bones, joints and articular cartilage of other and unspecified sites',\n",
       "    'Brain',\n",
       "    'Breast',\n",
       "    'Bronchus and lung',\n",
       "    'Cervix uteri',\n",
       "    'Colon',\n",
       "    'Connective, subcutaneous and other soft tissues',\n",
       "    'Corpus uteri',\n",
       "    'Esophagus',\n",
       "    'Eye and adnexa',\n",
       "    'Floor of mouth',\n",
       "    'Gallbladder',\n",
       "    'Gum',\n",
       "    'Heart, mediastinum, and pleura',\n",
       "    'Hematopoietic and reticuloendothelial systems',\n",
       "    'Hypopharynx',\n",
       "    'Kidney',\n",
       "    'Larynx',\n",
       "    'Lip',\n",
       "    'Liver and intrahepatic bile ducts',\n",
       "    'Lymph nodes',\n",
       "    'Meninges',\n",
       "    'Nasal cavity and middle ear',\n",
       "    'Nasopharynx',\n",
       "    'Oropharynx',\n",
       "    'Other and ill-defined digestive organs',\n",
       "    'Other and ill-defined sites',\n",
       "    'Other and ill-defined sites in lip, oral cavity and pharynx',\n",
       "    'Other and ill-defined sites within respiratory system and intrathoracic organs',\n",
       "    'Other and unspecified female genital organs',\n",
       "    'Other and unspecified major salivary glands',\n",
       "    'Other and unspecified male genital organs',\n",
       "    'Other and unspecified parts of biliary tract',\n",
       "    'Other and unspecified parts of mouth',\n",
       "    'Other and unspecified parts of tongue',\n",
       "    'Other and unspecified urinary organs',\n",
       "    'Other endocrine glands and related structures',\n",
       "    'Ovary',\n",
       "    'Palate',\n",
       "    'Pancreas',\n",
       "    'Parotid gland',\n",
       "    'Penis',\n",
       "    'Peripheral nerves and autonomic nervous system',\n",
       "    'Placenta',\n",
       "    'Prostate gland',\n",
       "    'Pyriform sinus',\n",
       "    'Rectosigmoid junction',\n",
       "    'Rectum',\n",
       "    'Renal pelvis',\n",
       "    'Retroperitoneum and peritoneum',\n",
       "    'Skin',\n",
       "    'Small intestine',\n",
       "    'Spinal cord, cranial nerves, and other parts of central nervous system',\n",
       "    'Stomach',\n",
       "    'Testis',\n",
       "    'Thymus',\n",
       "    'Thyroid gland',\n",
       "    'Tonsil',\n",
       "    'Trachea',\n",
       "    'Ureter',\n",
       "    'Uterus, NOS',\n",
       "    'Vagina',\n",
       "    'Vulva',\n",
       "    'Unknown',\n",
       "    'Not Reported',\n",
       "    'Adrenal Gland',\n",
       "    'Bile Duct',\n",
       "    'Blood',\n",
       "    'Bone',\n",
       "    'Bone Marrow',\n",
       "    'Cervix',\n",
       "    'Colorectal',\n",
       "    'Eye',\n",
       "    'Head and Neck',\n",
       "    'Liver',\n",
       "    'Lung',\n",
       "    'Lymph Nodes',\n",
       "    'Nervous System',\n",
       "    'Not Applicable',\n",
       "    'Pleura',\n",
       "    'Prostate',\n",
       "    'Soft Tissue',\n",
       "    'Thyroid',\n",
       "    'Uterus'],\n",
       "   'enumDef': {'Not Reported': {'description': 'Not provided or available.',\n",
       "     'termDef': {'cde_id': None,\n",
       "      'cde_version': None,\n",
       "      'source': 'NCIt',\n",
       "      'term': 'Not Reported',\n",
       "      'term_id': 'C43234',\n",
       "      'term_url': 'https://ncit.nci.nih.gov/ncitbrowser/ConceptReport.jsp?dictionary=NCI_Thesaurus&ns=ncit&code=C43234',\n",
       "      'term_version': '20.05a'}},\n",
       "    'Unknown': {'description': 'Not known, not observed, not recorded, or refused.',\n",
       "     'termDef': {'cde_id': None,\n",
       "      'cde_version': None,\n",
       "      'source': 'NCIt',\n",
       "      'term': 'Unknown',\n",
       "      'term_id': 'C17998',\n",
       "      'term_url': 'https://ncit.nci.nih.gov/ncitbrowser/ConceptReport.jsp?dictionary=NCI_Thesaurus&ns=ncit&code=C17998',\n",
       "      'term_version': '19.12e'}}},\n",
       "   'termDef': {'cde_id': 6161019,\n",
       "    'cde_version': 1.0,\n",
       "    'source': 'caDSR',\n",
       "    'term': 'ICD-O Primary Anatomic Site Category',\n",
       "    'term_url': 'https://cdebrowser.nci.nih.gov/cdebrowserClient/cdeBrowser.html#/search?publicId=6161019&version=1.0'}},\n",
       "  'project_id': {'common': {'description': 'Unique ID for any specific defined piece of work that is undertaken or attempted to meet a single requirement.',\n",
       "    'termDef': {'cde_id': None,\n",
       "     'cde_version': None,\n",
       "     'source': None,\n",
       "     'term': None,\n",
       "     'term_url': None}},\n",
       "   'type': 'string'},\n",
       "  'projects': {'anyOf': [{'items': {'additionalProperties': True,\n",
       "      'maxItems': 1,\n",
       "      'minItems': 1,\n",
       "      'properties': {'id': {'common': {'description': 'A 128-bit identifier. Depending on the mechanism used to generate it, it is either guaranteed to be different from all other UUIDs/GUIDs generated until 3400 AD or extremely likely to be different. Its relatively small size lends itself well to sorting, ordering, and hashing of all sorts, storing in databases, simple allocation, and ease of programming in general.',\n",
       "         'termDef': {'cde_id': 'C54100',\n",
       "          'cde_version': None,\n",
       "          'source': 'NCIt',\n",
       "          'term': 'Universally Unique Identifier',\n",
       "          'term_url': 'https://ncit.nci.nih.gov/ncitbrowser/ConceptReport.jsp?dictionary=NCI_Thesaurus&version=16.02d&ns=NCI_Thesaurus&code=C54100'}},\n",
       "        'pattern': '^[a-fA-F0-9]{8}-[a-fA-F0-9]{4}-[a-fA-F0-9]{4}-[a-fA-F0-9]{4}-[a-fA-F0-9]{12}$',\n",
       "        'systemAlias': 'node_id',\n",
       "        'type': 'string'},\n",
       "       'submitter_id': {'type': 'string'}},\n",
       "      'type': 'object'},\n",
       "     'type': 'array'},\n",
       "    {'additionalProperties': True,\n",
       "     'properties': {'id': {'common': {'description': 'A 128-bit identifier. Depending on the mechanism used to generate it, it is either guaranteed to be different from all other UUIDs/GUIDs generated until 3400 AD or extremely likely to be different. Its relatively small size lends itself well to sorting, ordering, and hashing of all sorts, storing in databases, simple allocation, and ease of programming in general.',\n",
       "        'termDef': {'cde_id': 'C54100',\n",
       "         'cde_version': None,\n",
       "         'source': 'NCIt',\n",
       "         'term': 'Universally Unique Identifier',\n",
       "         'term_url': 'https://ncit.nci.nih.gov/ncitbrowser/ConceptReport.jsp?dictionary=NCI_Thesaurus&version=16.02d&ns=NCI_Thesaurus&code=C54100'}},\n",
       "       'pattern': '^[a-fA-F0-9]{8}-[a-fA-F0-9]{4}-[a-fA-F0-9]{4}-[a-fA-F0-9]{4}-[a-fA-F0-9]{12}$',\n",
       "       'systemAlias': 'node_id',\n",
       "       'type': 'string'},\n",
       "      'submitter_id': {'type': 'string'}},\n",
       "     'type': 'object'}]},\n",
       "  'state': {'common': {'description': 'The current state of the object.',\n",
       "    'termDef': {'cde_id': None,\n",
       "     'cde_version': None,\n",
       "     'source': None,\n",
       "     'term': None,\n",
       "     'term_url': None}},\n",
       "   'default': 'validated',\n",
       "   'downloadable': ['uploaded',\n",
       "    'md5summed',\n",
       "    'validating',\n",
       "    'validated',\n",
       "    'error',\n",
       "    'invalid',\n",
       "    'released'],\n",
       "   'oneOf': [{'enum': ['uploading',\n",
       "      'uploaded',\n",
       "      'md5summing',\n",
       "      'md5summed',\n",
       "      'validating',\n",
       "      'error',\n",
       "      'invalid',\n",
       "      'suppressed',\n",
       "      'redacted',\n",
       "      'live']},\n",
       "    {'enum': ['validated', 'submitted', 'released']}],\n",
       "   'public': ['live']},\n",
       "  'submitter_id': {'description': 'A project-specific identifier for a node. This property is the calling card/nickname/alias for a unit of submission. It can be used in place of the uuid for identifying or recalling a node.',\n",
       "   'type': 'string'},\n",
       "  'tissue_source_sites': {'anyOf': [{'items': {'additionalProperties': True,\n",
       "      'maxItems': 1,\n",
       "      'minItems': 1,\n",
       "      'properties': {'id': {'common': {'description': 'A 128-bit identifier. Depending on the mechanism used to generate it, it is either guaranteed to be different from all other UUIDs/GUIDs generated until 3400 AD or extremely likely to be different. Its relatively small size lends itself well to sorting, ordering, and hashing of all sorts, storing in databases, simple allocation, and ease of programming in general.',\n",
       "         'termDef': {'cde_id': 'C54100',\n",
       "          'cde_version': None,\n",
       "          'source': 'NCIt',\n",
       "          'term': 'Universally Unique Identifier',\n",
       "          'term_url': 'https://ncit.nci.nih.gov/ncitbrowser/ConceptReport.jsp?dictionary=NCI_Thesaurus&version=16.02d&ns=NCI_Thesaurus&code=C54100'}},\n",
       "        'pattern': '^[a-fA-F0-9]{8}-[a-fA-F0-9]{4}-[a-fA-F0-9]{4}-[a-fA-F0-9]{4}-[a-fA-F0-9]{12}$',\n",
       "        'systemAlias': 'node_id',\n",
       "        'type': 'string'},\n",
       "       'submitter_id': {'type': 'string'}},\n",
       "      'type': 'object'},\n",
       "     'type': 'array'},\n",
       "    {'additionalProperties': True,\n",
       "     'properties': {'id': {'common': {'description': 'A 128-bit identifier. Depending on the mechanism used to generate it, it is either guaranteed to be different from all other UUIDs/GUIDs generated until 3400 AD or extremely likely to be different. Its relatively small size lends itself well to sorting, ordering, and hashing of all sorts, storing in databases, simple allocation, and ease of programming in general.',\n",
       "        'termDef': {'cde_id': 'C54100',\n",
       "         'cde_version': None,\n",
       "         'source': 'NCIt',\n",
       "         'term': 'Universally Unique Identifier',\n",
       "         'term_url': 'https://ncit.nci.nih.gov/ncitbrowser/ConceptReport.jsp?dictionary=NCI_Thesaurus&version=16.02d&ns=NCI_Thesaurus&code=C54100'}},\n",
       "       'pattern': '^[a-fA-F0-9]{8}-[a-fA-F0-9]{4}-[a-fA-F0-9]{4}-[a-fA-F0-9]{4}-[a-fA-F0-9]{12}$',\n",
       "       'systemAlias': 'node_id',\n",
       "       'type': 'string'},\n",
       "      'submitter_id': {'type': 'string'}},\n",
       "     'type': 'object'}]},\n",
       "  'type': {'type': 'string'},\n",
       "  'updated_datetime': {'common': {'description': 'A combination of date and time of day in the form [-]CCYY-MM-DDThh:mm:ss[Z|(+|-)hh:mm]',\n",
       "    'termDef': {'cde_id': None,\n",
       "     'cde_version': None,\n",
       "     'source': None,\n",
       "     'term': None,\n",
       "     'term_url': None}},\n",
       "   'oneOf': [{'format': 'date-time', 'type': 'string'}, {'type': 'null'}]}},\n",
       " 'required': ['submitter_id'],\n",
       " 'submittable': True,\n",
       " 'systemProperties': ['id',\n",
       "  'project_id',\n",
       "  'created_datetime',\n",
       "  'updated_datetime',\n",
       "  'state'],\n",
       " 'title': 'Case',\n",
       " 'type': 'object',\n",
       " 'uniqueKeys': [['id'], ['project_id', 'submitter_id']],\n",
       " 'validators': None}"
      ]
     },
     "execution_count": 13,
     "metadata": {},
     "output_type": "execute_result"
    }
   ],
   "source": [
    "New_Dict['case']"
   ]
  },
  {
   "cell_type": "code",
   "execution_count": 30,
   "metadata": {
    "scrolled": true
   },
   "outputs": [
    {
     "data": {
      "text/plain": [
       "[{'exclusive': False,\n",
       "  'required': True,\n",
       "  'subgroup': [{'backref': 'slides',\n",
       "    'label': 'derived_from',\n",
       "    'multiplicity': 'many_to_many',\n",
       "    'name': 'portions',\n",
       "    'required': False,\n",
       "    'target_type': 'portion'},\n",
       "   {'backref': 'slides',\n",
       "    'label': 'derived_from',\n",
       "    'multiplicity': 'many_to_many',\n",
       "    'name': 'samples',\n",
       "    'required': False,\n",
       "    'target_type': 'sample'}]}]"
      ]
     },
     "execution_count": 30,
     "metadata": {},
     "output_type": "execute_result"
    }
   ],
   "source": [
    "New_Dict['slide']['links']"
   ]
  },
  {
   "cell_type": "code",
   "execution_count": 16,
   "metadata": {},
   "outputs": [
    {
     "data": {
      "text/plain": [
       "[{'exclusive': True,\n",
       "  'required': True,\n",
       "  'subgroup': [{'backref': 'protein_expressions',\n",
       "    'label': 'derived_from',\n",
       "    'multiplicity': 'one_to_one',\n",
       "    'name': 'portions',\n",
       "    'required': False,\n",
       "    'target_type': 'portion'},\n",
       "   {'backref': 'protein_expressions',\n",
       "    'label': 'derived_from',\n",
       "    'multiplicity': 'one_to_one',\n",
       "    'name': 'samples',\n",
       "    'required': False,\n",
       "    'target_type': 'sample'}]}]"
      ]
     },
     "execution_count": 16,
     "metadata": {},
     "output_type": "execute_result"
    }
   ],
   "source": [
    "New_Dict['protein_expression']['links']"
   ]
  },
  {
   "cell_type": "code",
   "execution_count": 17,
   "metadata": {},
   "outputs": [
    {
     "data": {
      "text/plain": [
       "{'$schema': 'http://json-schema.org/draft-04/schema#',\n",
       " 'additionalProperties': False,\n",
       " 'category': 'administrative',\n",
       " 'description': 'A clinical site that collects and provides patient samples and clinical metadata for research use. (NCIt C103264)',\n",
       " 'downloadable': False,\n",
       " 'id': 'tissue_source_site',\n",
       " 'links': [],\n",
       " 'namespace': 'https://gdc.cancer.gov',\n",
       " 'previous_version_downloadable': False,\n",
       " 'program': '*',\n",
       " 'project': '*',\n",
       " 'properties': {'bcr_id': {'description': 'TCGA-provided BCR id.',\n",
       "   'type': 'string'},\n",
       "  'code': {'description': 'TCGA-provided TSS code.', 'type': 'string'},\n",
       "  'id': {'common': {'description': 'A 128-bit identifier. Depending on the mechanism used to generate it, it is either guaranteed to be different from all other UUIDs/GUIDs generated until 3400 AD or extremely likely to be different. Its relatively small size lends itself well to sorting, ordering, and hashing of all sorts, storing in databases, simple allocation, and ease of programming in general.',\n",
       "    'termDef': {'cde_id': 'C54100',\n",
       "     'cde_version': None,\n",
       "     'source': 'NCIt',\n",
       "     'term': 'Universally Unique Identifier',\n",
       "     'term_url': 'https://ncit.nci.nih.gov/ncitbrowser/ConceptReport.jsp?dictionary=NCI_Thesaurus&version=16.02d&ns=NCI_Thesaurus&code=C54100'}},\n",
       "   'description': 'UUID for the Tissue Source Site',\n",
       "   'pattern': '^[a-fA-F0-9]{8}-[a-fA-F0-9]{4}-[a-fA-F0-9]{4}-[a-fA-F0-9]{4}-[a-fA-F0-9]{12}$',\n",
       "   'systemAlias': 'node_id',\n",
       "   'type': 'string'},\n",
       "  'name': {'description': 'Name of the source site.', 'type': 'string'},\n",
       "  'project': {'description': 'Study name of the project.', 'type': 'string'},\n",
       "  'type': {'type': 'string'}},\n",
       " 'submittable': False,\n",
       " 'systemProperties': ['id'],\n",
       " 'title': 'Tissue Source Site',\n",
       " 'type': 'object',\n",
       " 'uniqueKeys': [['id'], ['code']],\n",
       " 'validators': None}"
      ]
     },
     "execution_count": 17,
     "metadata": {},
     "output_type": "execute_result"
    }
   ],
   "source": [
    "New_Dict['tissue_source_site']"
   ]
  },
  {
   "cell_type": "code",
   "execution_count": null,
   "metadata": {},
   "outputs": [],
   "source": []
  }
 ],
 "metadata": {
  "kernelspec": {
   "display_name": "Python 3",
   "language": "python",
   "name": "python3"
  },
  "language_info": {
   "codemirror_mode": {
    "name": "ipython",
    "version": 3
   },
   "file_extension": ".py",
   "mimetype": "text/x-python",
   "name": "python",
   "nbconvert_exporter": "python",
   "pygments_lexer": "ipython3",
   "version": "3.7.0"
  }
 },
 "nbformat": 4,
 "nbformat_minor": 2
}
